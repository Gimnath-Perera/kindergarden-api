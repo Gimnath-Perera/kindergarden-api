{
  "nbformat": 4,
  "nbformat_minor": 0,
  "metadata": {
    "colab": {
      "provenance": []
    },
    "kernelspec": {
      "name": "python3",
      "display_name": "Python 3"
    },
    "language_info": {
      "name": "python"
    },
    "accelerator": "GPU"
  },
  "cells": [
    {
      "cell_type": "code",
      "source": [
        "from google.colab import drive\n",
        "drive.mount('/content/drive')"
      ],
      "metadata": {
        "colab": {
          "base_uri": "https://localhost:8080/"
        },
        "id": "f1fRqm9arvbJ",
        "outputId": "9a2d088b-e61c-46ea-aba6-dd1a1b4527d4"
      },
      "execution_count": null,
      "outputs": [
        {
          "output_type": "stream",
          "name": "stdout",
          "text": [
            "Drive already mounted at /content/drive; to attempt to forcibly remount, call drive.mount(\"/content/drive\", force_remount=True).\n"
          ]
        }
      ]
    },
    {
      "cell_type": "code",
      "source": [
        "import tensorflow as tf\n",
        "import numpy as np\n",
        "import matplotlib.pyplot as plt\n",
        "import pickle"
      ],
      "metadata": {
        "id": "dKuUhmL6YBG7"
      },
      "execution_count": null,
      "outputs": []
    },
    {
      "cell_type": "code",
      "execution_count": null,
      "metadata": {
        "id": "PctPkkzkX182"
      },
      "outputs": [],
      "source": [
        "pickle_file_link = \"/content/drive/MyDrive/voice_dataset\"\n",
        "X_train = pickle.load(open(f\"{pickle_file_link}/X_train.pickle\", \"rb\"))\n",
        "y_train = pickle.load(open(f\"{pickle_file_link}/y_train.pickle\", \"rb\"))\n",
        "\n",
        "X_val = pickle.load(open(f\"{pickle_file_link}/X_val.pickle\", \"rb\"))\n",
        "y_val = pickle.load(open(f\"{pickle_file_link}/y_val.pickle\", \"rb\"))\n",
        "\n",
        "X_test = pickle.load(open(f\"{pickle_file_link}/X_test.pickle\", \"rb\"))\n",
        "y_test = pickle.load(open(f\"{pickle_file_link}/y_test.pickle\", \"rb\"))"
      ]
    },
    {
      "cell_type": "code",
      "source": [
        "# Create a model object\n",
        "model = tf.keras.Sequential()"
      ],
      "metadata": {
        "id": "QNBcB135r5xB"
      },
      "execution_count": null,
      "outputs": []
    },
    {
      "cell_type": "code",
      "source": [
        "# Add a convolution and max pooling layer\n",
        "model.add(tf.keras.layers.Conv2D(64,\n",
        "                                 kernel_size = (3,3),\n",
        "                                 strides = (1,1),\n",
        "                                 padding =  \"same\",\n",
        "                                 activation = \"relu\",\n",
        "                                 input_shape =(128,128,1)))\n",
        "model.add(tf.keras.layers.MaxPooling2D((2,2)))"
      ],
      "metadata": {
        "id": "PNq6OMFYxiiZ"
      },
      "execution_count": null,
      "outputs": []
    },
    {
      "cell_type": "code",
      "source": [
        "# Add a convolution and max pooling layer\n",
        "model.add(tf.keras.layers.Conv2D(64,\n",
        "                                 kernel_size = (3,3),\n",
        "                                 strides = (1,1),\n",
        "                                 padding =  \"same\",\n",
        "                                 activation = \"relu\"))\n",
        "model.add(tf.keras.layers.MaxPooling2D((2,2)))\n",
        "model.add(tf.keras.layers.Conv2D(64,\n",
        "                                 kernel_size = (3,3),\n",
        "                                 strides = (1,1),\n",
        "                                 padding =  \"same\",\n",
        "                                 activation = \"relu\"))\n",
        "model.add(tf.keras.layers.MaxPooling2D((2,2)))"
      ],
      "metadata": {
        "id": "uO7b9PWJxmCA"
      },
      "execution_count": null,
      "outputs": []
    },
    {
      "cell_type": "code",
      "source": [
        "# Flatten the convolution layer\n",
        "model.add(tf.keras.layers.Flatten())"
      ],
      "metadata": {
        "id": "XBHFwd-95q7v"
      },
      "execution_count": null,
      "outputs": []
    },
    {
      "cell_type": "code",
      "source": [
        "# Add the dense layer and dropout layer\n",
        "model.add(tf.keras.layers.Dense(64, activation = \"relu\"))\n",
        "model.add(tf.keras.layers.Dropout(0.5))\n",
        "\n",
        "# Add the dense layer and dropout layer\n",
        "model.add(tf.keras.layers.Dense(64, activation = \"relu\"))\n",
        "model.add(tf.keras.layers.Dropout(0.5))"
      ],
      "metadata": {
        "id": "RXgiP6nX51UV"
      },
      "execution_count": null,
      "outputs": []
    },
    {
      "cell_type": "code",
      "source": [
        "# Add the output layer\n",
        "model.add(tf.keras.layers.Dense(10, activation = \"softmax\"))"
      ],
      "metadata": {
        "id": "BIdpQhaE5-GV"
      },
      "execution_count": null,
      "outputs": []
    },
    {
      "cell_type": "code",
      "source": [
        "# Compile the model\n",
        "model.compile(optimizer =  \"adam\",\n",
        "              loss = \"sparse_categorical_crossentropy\",\n",
        "              metrics = [\"accuracy\"])"
      ],
      "metadata": {
        "id": "m_sPUb6X6NUl"
      },
      "execution_count": null,
      "outputs": []
    },
    {
      "cell_type": "code",
      "source": [
        "# Train the model for 50 epochs with batch size of 128\n",
        "results = model.fit(X_train,y_train,\n",
        "                    batch_size = 128,\n",
        "                    epochs = 50,\n",
        "                    validation_data = (X_val, y_val))"
      ],
      "metadata": {
        "colab": {
          "base_uri": "https://localhost:8080/"
        },
        "id": "aFtuq-Wn6WFF",
        "outputId": "b97911bb-e962-444a-b74d-75848c692551"
      },
      "execution_count": null,
      "outputs": [
        {
          "output_type": "stream",
          "name": "stdout",
          "text": [
            "Epoch 1/50\n",
            "55/55 [==============================] - 6s 99ms/step - loss: 2.2599 - accuracy: 0.1401 - val_loss: 2.1033 - val_accuracy: 0.3024\n",
            "Epoch 2/50\n",
            "55/55 [==============================] - 5s 93ms/step - loss: 2.0235 - accuracy: 0.2442 - val_loss: 1.6506 - val_accuracy: 0.4410\n",
            "Epoch 3/50\n",
            "55/55 [==============================] - 5s 92ms/step - loss: 1.8136 - accuracy: 0.3245 - val_loss: 1.4302 - val_accuracy: 0.5452\n",
            "Epoch 4/50\n",
            "55/55 [==============================] - 5s 93ms/step - loss: 1.6538 - accuracy: 0.3938 - val_loss: 1.2536 - val_accuracy: 0.5613\n",
            "Epoch 5/50\n",
            "55/55 [==============================] - 5s 93ms/step - loss: 1.5391 - accuracy: 0.4270 - val_loss: 1.1559 - val_accuracy: 0.6220\n",
            "Epoch 6/50\n",
            "55/55 [==============================] - 5s 93ms/step - loss: 1.4602 - accuracy: 0.4585 - val_loss: 1.0846 - val_accuracy: 0.6208\n",
            "Epoch 7/50\n",
            "55/55 [==============================] - 5s 92ms/step - loss: 1.3788 - accuracy: 0.4874 - val_loss: 1.0924 - val_accuracy: 0.6197\n",
            "Epoch 8/50\n",
            "55/55 [==============================] - 5s 92ms/step - loss: 1.3290 - accuracy: 0.5080 - val_loss: 0.9738 - val_accuracy: 0.6884\n",
            "Epoch 9/50\n",
            "55/55 [==============================] - 5s 91ms/step - loss: 1.2398 - accuracy: 0.5457 - val_loss: 0.9116 - val_accuracy: 0.7090\n",
            "Epoch 10/50\n",
            "55/55 [==============================] - 5s 91ms/step - loss: 1.1890 - accuracy: 0.5690 - val_loss: 0.8335 - val_accuracy: 0.7709\n",
            "Epoch 11/50\n",
            "55/55 [==============================] - 5s 91ms/step - loss: 1.1476 - accuracy: 0.5926 - val_loss: 0.8266 - val_accuracy: 0.7617\n",
            "Epoch 12/50\n",
            "55/55 [==============================] - 5s 91ms/step - loss: 1.1008 - accuracy: 0.6075 - val_loss: 0.7925 - val_accuracy: 0.8099\n",
            "Epoch 13/50\n",
            "55/55 [==============================] - 5s 91ms/step - loss: 1.0714 - accuracy: 0.6162 - val_loss: 0.7787 - val_accuracy: 0.7617\n",
            "Epoch 14/50\n",
            "55/55 [==============================] - 5s 91ms/step - loss: 1.0417 - accuracy: 0.6214 - val_loss: 0.6948 - val_accuracy: 0.8270\n",
            "Epoch 15/50\n",
            "55/55 [==============================] - 5s 91ms/step - loss: 0.9875 - accuracy: 0.6489 - val_loss: 0.6760 - val_accuracy: 0.8408\n",
            "Epoch 16/50\n",
            "55/55 [==============================] - 5s 91ms/step - loss: 0.9544 - accuracy: 0.6602 - val_loss: 0.6530 - val_accuracy: 0.8362\n",
            "Epoch 17/50\n",
            "55/55 [==============================] - 5s 91ms/step - loss: 0.9296 - accuracy: 0.6613 - val_loss: 0.6112 - val_accuracy: 0.8522\n",
            "Epoch 18/50\n",
            "55/55 [==============================] - 5s 91ms/step - loss: 0.9021 - accuracy: 0.6703 - val_loss: 0.6307 - val_accuracy: 0.8408\n",
            "Epoch 19/50\n",
            "55/55 [==============================] - 5s 92ms/step - loss: 0.8517 - accuracy: 0.6934 - val_loss: 0.5825 - val_accuracy: 0.8477\n",
            "Epoch 20/50\n",
            "55/55 [==============================] - 5s 91ms/step - loss: 0.8362 - accuracy: 0.6957 - val_loss: 0.5912 - val_accuracy: 0.8454\n",
            "Epoch 21/50\n",
            "55/55 [==============================] - 5s 92ms/step - loss: 0.7993 - accuracy: 0.7063 - val_loss: 0.5786 - val_accuracy: 0.8385\n",
            "Epoch 22/50\n",
            "55/55 [==============================] - 5s 92ms/step - loss: 0.7748 - accuracy: 0.7196 - val_loss: 0.5792 - val_accuracy: 0.8557\n",
            "Epoch 23/50\n",
            "55/55 [==============================] - 5s 92ms/step - loss: 0.7682 - accuracy: 0.7223 - val_loss: 0.5832 - val_accuracy: 0.8362\n",
            "Epoch 24/50\n",
            "55/55 [==============================] - 5s 92ms/step - loss: 0.7599 - accuracy: 0.7212 - val_loss: 0.5261 - val_accuracy: 0.8545\n",
            "Epoch 25/50\n",
            "55/55 [==============================] - 5s 92ms/step - loss: 0.7157 - accuracy: 0.7383 - val_loss: 0.5646 - val_accuracy: 0.8477\n",
            "Epoch 26/50\n",
            "55/55 [==============================] - 5s 92ms/step - loss: 0.6990 - accuracy: 0.7469 - val_loss: 0.5324 - val_accuracy: 0.8568\n",
            "Epoch 27/50\n",
            "55/55 [==============================] - 5s 91ms/step - loss: 0.7136 - accuracy: 0.7388 - val_loss: 0.5891 - val_accuracy: 0.8465\n",
            "Epoch 28/50\n",
            "55/55 [==============================] - 5s 91ms/step - loss: 0.6870 - accuracy: 0.7511 - val_loss: 0.5270 - val_accuracy: 0.8603\n",
            "Epoch 29/50\n",
            "55/55 [==============================] - 5s 91ms/step - loss: 0.6631 - accuracy: 0.7534 - val_loss: 0.5098 - val_accuracy: 0.8625\n",
            "Epoch 30/50\n",
            "55/55 [==============================] - 5s 91ms/step - loss: 0.6936 - accuracy: 0.7508 - val_loss: 0.5289 - val_accuracy: 0.8545\n",
            "Epoch 31/50\n",
            "55/55 [==============================] - 5s 91ms/step - loss: 0.6430 - accuracy: 0.7628 - val_loss: 0.5202 - val_accuracy: 0.8648\n",
            "Epoch 32/50\n",
            "55/55 [==============================] - 5s 91ms/step - loss: 0.6168 - accuracy: 0.7672 - val_loss: 0.5176 - val_accuracy: 0.8580\n",
            "Epoch 33/50\n",
            "55/55 [==============================] - 5s 91ms/step - loss: 0.6267 - accuracy: 0.7662 - val_loss: 0.5035 - val_accuracy: 0.8648\n",
            "Epoch 34/50\n",
            "55/55 [==============================] - 5s 91ms/step - loss: 0.6171 - accuracy: 0.7757 - val_loss: 0.5727 - val_accuracy: 0.8499\n",
            "Epoch 35/50\n",
            "55/55 [==============================] - 5s 91ms/step - loss: 0.6551 - accuracy: 0.7539 - val_loss: 0.5413 - val_accuracy: 0.8637\n",
            "Epoch 36/50\n",
            "55/55 [==============================] - 5s 94ms/step - loss: 0.5924 - accuracy: 0.7811 - val_loss: 0.5942 - val_accuracy: 0.8637\n",
            "Epoch 37/50\n",
            "55/55 [==============================] - 5s 91ms/step - loss: 0.5815 - accuracy: 0.7823 - val_loss: 0.5457 - val_accuracy: 0.8683\n",
            "Epoch 38/50\n",
            "55/55 [==============================] - 5s 92ms/step - loss: 0.5922 - accuracy: 0.7814 - val_loss: 0.5316 - val_accuracy: 0.8797\n",
            "Epoch 39/50\n",
            "55/55 [==============================] - 5s 91ms/step - loss: 0.5587 - accuracy: 0.7944 - val_loss: 0.6053 - val_accuracy: 0.8637\n",
            "Epoch 40/50\n",
            "55/55 [==============================] - 5s 91ms/step - loss: 0.5635 - accuracy: 0.7942 - val_loss: 0.5837 - val_accuracy: 0.8648\n",
            "Epoch 41/50\n",
            "55/55 [==============================] - 5s 91ms/step - loss: 0.5852 - accuracy: 0.7840 - val_loss: 0.5630 - val_accuracy: 0.8786\n",
            "Epoch 42/50\n",
            "55/55 [==============================] - 5s 91ms/step - loss: 0.5533 - accuracy: 0.7884 - val_loss: 0.5595 - val_accuracy: 0.8706\n",
            "Epoch 43/50\n",
            "55/55 [==============================] - 5s 91ms/step - loss: 0.5397 - accuracy: 0.7972 - val_loss: 0.5796 - val_accuracy: 0.8832\n",
            "Epoch 44/50\n",
            "55/55 [==============================] - 5s 91ms/step - loss: 0.5355 - accuracy: 0.7973 - val_loss: 0.5760 - val_accuracy: 0.8694\n",
            "Epoch 45/50\n",
            "55/55 [==============================] - 5s 91ms/step - loss: 0.5449 - accuracy: 0.8020 - val_loss: 0.5566 - val_accuracy: 0.8717\n",
            "Epoch 46/50\n",
            "55/55 [==============================] - 5s 92ms/step - loss: 0.5108 - accuracy: 0.8102 - val_loss: 0.6333 - val_accuracy: 0.8774\n",
            "Epoch 47/50\n",
            "55/55 [==============================] - 5s 93ms/step - loss: 0.5293 - accuracy: 0.8040 - val_loss: 0.5994 - val_accuracy: 0.8671\n",
            "Epoch 48/50\n",
            "55/55 [==============================] - 5s 92ms/step - loss: 0.5332 - accuracy: 0.7999 - val_loss: 0.5832 - val_accuracy: 0.8786\n",
            "Epoch 49/50\n",
            "55/55 [==============================] - 5s 93ms/step - loss: 0.5155 - accuracy: 0.8039 - val_loss: 0.5586 - val_accuracy: 0.8751\n",
            "Epoch 50/50\n",
            "55/55 [==============================] - 5s 91ms/step - loss: 0.5194 - accuracy: 0.8045 - val_loss: 0.6336 - val_accuracy: 0.8729\n"
          ]
        }
      ]
    },
    {
      "cell_type": "code",
      "source": [
        "#save model file\n",
        "model.save('audio_model.h5')\n",
        "\n",
        "# Plot the the training loss\n",
        "plt.plot(results.history[\"loss\"],label =\"Train\")\n",
        "\n",
        "# Plot the the validation loss\n",
        "plt.plot(results.history[\"val_loss\"],label =\"Validation\")\n",
        "\n",
        "# Name the x and y axises\n",
        "plt.ylabel(\"Loss\")\n",
        "plt.xlabel(\"Epoch\")\n",
        "\n",
        "# Put legend table\n",
        "plt.legend()\n",
        "\n",
        "# Show the plot\n",
        "plt.show()"
      ],
      "metadata": {
        "id": "HHXY48Ct6dvt",
        "colab": {
          "base_uri": "https://localhost:8080/",
          "height": 384
        },
        "outputId": "46c27c93-c79a-4009-ed34-514c4e60af37"
      },
      "execution_count": null,
      "outputs": [
        {
          "output_type": "display_data",
          "data": {
            "text/plain": [
              "<Figure size 501.12x374.4 with 1 Axes>"
            ],
            "image/png": "[encoded data removed]"
          },
          "metadata": {
            "needs_background": "light"
          }
        }
      ]
    },
    {
      "cell_type": "code",
      "source": [
        "# Plot the the training accuracy\n",
        "plt.plot(results.history[\"accuracy\"],label =\"accuracy\")\n",
        "\n",
        "# Plot the the validation accuracy\n",
        "plt.plot(results.history[\"val_accuracy\"],label =\"val_accuracy\")\n",
        "\n",
        "# Name the x and y axises\n",
        "plt.ylabel(\"Accuracy\")\n",
        "plt.xlabel(\"Epoch\")\n",
        "\n",
        "# Put legend table\n",
        "plt.legend()\n",
        "\n",
        "# Show the plot\n",
        "plt.show()"
      ],
      "metadata": {
        "id": "3wwS0ueY7eet",
        "colab": {
          "base_uri": "https://localhost:8080/",
          "height": 384
        },
        "outputId": "24d3f1ed-dc4b-49d6-a1ea-16018ec4fb52"
      },
      "execution_count": null,
      "outputs": [
        {
          "output_type": "display_data",
          "data": {
            "text/plain": [
              "<Figure size 501.12x374.4 with 1 Axes>"
            ],
            "image/png": "[encoded data removed]"
          },
          "metadata": {
            "needs_background": "light"
          }
        }
      ]
    },
    {
      "cell_type": "code",
      "source": [
        "# Evaluate the performance\n",
        "model.evaluate(X_test, y_test)"
      ],
      "metadata": {
        "colab": {
          "base_uri": "https://localhost:8080/"
        },
        "id": "suykErNGgjL-",
        "outputId": "3116c152-37ae-4db3-9cf3-bf00379ebf2f"
      },
      "execution_count": null,
      "outputs": [
        {
          "output_type": "stream",
          "name": "stdout",
          "text": [
            "28/28 [==============================] - 0s 14ms/step - loss: 0.7114 - accuracy: 0.8488\n"
          ]
        },
        {
          "output_type": "execute_result",
          "data": {
            "text/plain": [
              "[0.7114077210426331, 0.8487972617149353]"
            ]
          },
          "metadata": {},
          "execution_count": 74
        }
      ]
    },
    {
      "cell_type": "code",
      "source": [
        "# Make prediction on the reshaped sample\n",
        "prediction_result = model.predict(X_test[633].reshape(1,128,128,1))\n",
        "\n",
        "# Print the prediction result\n",
        "print(prediction_result)"
      ],
      "metadata": {
        "id": "pguNeiqcgny0",
        "colab": {
          "base_uri": "https://localhost:8080/"
        },
        "outputId": "bb31033d-02d0-4aa5-d343-9ede6d4a570e"
      },
      "execution_count": null,
      "outputs": [
        {
          "output_type": "stream",
          "name": "stdout",
          "text": [
            "[[1.8814845e-02 5.4874261e-05 4.5882430e-02 7.0982742e-06 1.2209005e-05\n",
            "  1.9759308e-09 5.4297709e-15 2.2220448e-12 1.2354359e-07 9.3522841e-01]]\n"
          ]
        }
      ]
    },
    {
      "cell_type": "code",
      "source": [
        "# Find the predicted class\n",
        "predicted_class = prediction_result.argmax()\n",
        "# Find the prediction probability\n",
        "predicted_probability = prediction_result.max()"
      ],
      "metadata": {
        "id": "j4TbyZg7qIKZ"
      },
      "execution_count": null,
      "outputs": []
    },
    {
      "cell_type": "code",
      "source": [
        "# Print the results\n",
        "print(f\"This sound spectogram belongs to class {predicted_class} with {predicted_probability} probability\")"
      ],
      "metadata": {
        "colab": {
          "base_uri": "https://localhost:8080/"
        },
        "id": "jVQMI089q4Ng",
        "outputId": "b371b0ed-5e40-41e3-9450-0c3254de05ca"
      },
      "execution_count": null,
      "outputs": [
        {
          "output_type": "stream",
          "name": "stdout",
          "text": [
            "This sound spectogram belongs to class 9 with 0.9352284073829651 probability\n"
          ]
        }
      ]
    },
    {
      "cell_type": "code",
      "source": [
        "#importing required libraries\n",
        "import os\n",
        "import random\n",
        "from pathlib import Path\n",
        "import numpy as np\n",
        "import librosa\n",
        "import librosa.display\n",
        "import IPython.display as ipd\n",
        "import matplotlib.pyplot as plt\n",
        "import cv2 as cv\n",
        "import tensorflow as tf\n",
        "from sklearn.preprocessing import minmax_scale"
      ],
      "metadata": {
        "id": "FyDzBqegvKe9"
      },
      "execution_count": null,
      "outputs": []
    },
    {
      "cell_type": "code",
      "source": [
        "#Testing sample path\n",
        "sound_sample = '/content/drive/MyDrive/voice_dataset/Amma/2937-1-0-0.wav'"
      ],
      "metadata": {
        "id": "5necQV9grlFJ"
      },
      "execution_count": null,
      "outputs": []
    },
    {
      "cell_type": "code",
      "source": [
        "#create spectogram function\n",
        "test_sound_path = \"/content/drive/MyDrive/voice_dataset\"\n",
        "import librosa\n",
        "import librosa.display\n",
        "def create_spectogram(filepath):\n",
        "  global saving_path\n",
        "  plt.rcParams[\"figure.figsize\"] = [6.96, 5.2]\n",
        "  plt.rcParams[\"figure.autolayout\"] = True\n",
        "  fig, ax = plt.subplots()\n",
        "  y, sr = librosa.load(filepath)\n",
        "  S = librosa.feature.melspectrogram(y=y)\n",
        "  S_dB = librosa.power_to_db(S, ref=np.max)\n",
        "  img = librosa.display.specshow(S_dB, sr=sr,  hop_length=256)\n",
        "  fig.tight_layout()\n",
        "  saving_path = f\"{test_sound_path}/{Path(filepath).stem}.png\"\n",
        "  plt.savefig(saving_path)\n"
      ],
      "metadata": {
        "id": "h9p3LFawugUz"
      },
      "execution_count": null,
      "outputs": []
    },
    {
      "cell_type": "code",
      "source": [
        "create_spectogram(sound_sample)"
      ],
      "metadata": {
        "colab": {
          "base_uri": "https://localhost:8080/",
          "height": 384
        },
        "id": "geevv0A4u5LT",
        "outputId": "befb2d8e-9324-4826-84f6-e02d4511e39c"
      },
      "execution_count": null,
      "outputs": [
        {
          "output_type": "display_data",
          "data": {
            "text/plain": [
              "<Figure size 501.12x374.4 with 1 Axes>"
            ],
            "image/png": "[encoded data removed]"
          },
          "metadata": {}
        }
      ]
    },
    {
      "cell_type": "code",
      "source": [
        "spectogram = cv.imread(saving_path, cv.IMREAD_COLOR)\n",
        "spectogram = spectogram[10:360,14:491]\n",
        "spectogram = cv.cvtColor(spectogram,cv.COLOR_BGR2GRAY)\n",
        "spectogram = cv.resize(spectogram, (128,128))\n",
        "spectogram =  minmax_scale(spectogram)\n",
        "spectogram"
      ],
      "metadata": {
        "colab": {
          "base_uri": "https://localhost:8080/"
        },
        "id": "OEJzzW8Yv4e5",
        "outputId": "f8549117-43b1-49f0-b89d-80dc66e1afac"
      },
      "execution_count": null,
      "outputs": [
        {
          "output_type": "execute_result",
          "data": {
            "text/plain": [
              "array([[0.        , 0.        , 0.        , ..., 0.        , 0.        ,\n",
              "        0.        ],\n",
              "       [0.        , 0.        , 0.        , ..., 0.055     , 0.055     ,\n",
              "        0.055     ],\n",
              "       [0.        , 0.        , 0.        , ..., 0.21      , 0.21      ,\n",
              "        0.21      ],\n",
              "       ...,\n",
              "       [0.29943503, 0.29943503, 0.29943503, ..., 0.535     , 0.535     ,\n",
              "        0.535     ],\n",
              "       [0.37853107, 0.37853107, 0.37853107, ..., 0.55      , 0.55      ,\n",
              "        0.55      ],\n",
              "       [0.63276836, 0.63276836, 0.63276836, ..., 0.535     , 0.535     ,\n",
              "        0.535     ]])"
            ]
          },
          "metadata": {},
          "execution_count": 83
        }
      ]
    },
    {
      "cell_type": "code",
      "source": [
        "# Make prediction on the reshaped sample\n",
        "prediction_result = model.predict(spectogram.reshape(1,128,128,1))\n",
        "\n",
        "# Print the prediction result\n",
        "print(prediction_result)"
      ],
      "metadata": {
        "colab": {
          "base_uri": "https://localhost:8080/"
        },
        "id": "VriHCsFrwtF5",
        "outputId": "bf483563-6178-47b8-b50e-de62ccc34be5"
      },
      "execution_count": null,
      "outputs": [
        {
          "output_type": "stream",
          "name": "stdout",
          "text": [
            "[[1.9206220e-13 9.2188221e-01 6.7914283e-05 1.0471572e-18 4.6010191e-09\n",
            "  1.1168341e-33 0.0000000e+00 1.2079986e-28 3.0774784e-22 7.8049950e-02]]\n"
          ]
        }
      ]
    },
    {
      "cell_type": "code",
      "source": [
        "# Find the predicted class\n",
        "predicted_class = prediction_result.argmax()\n",
        "# Find the prediction probability\n",
        "predicted_probability = prediction_result.max()"
      ],
      "metadata": {
        "id": "K4OqOTQDx0HA"
      },
      "execution_count": null,
      "outputs": []
    },
    {
      "cell_type": "code",
      "source": [
        "# Print the results\n",
        "print(f\"This sound spectogram belongs to class {predicted_class} with {predicted_probability} probability\")"
      ],
      "metadata": {
        "colab": {
          "base_uri": "https://localhost:8080/"
        },
        "id": "gDhjqeNHx6xn",
        "outputId": "2c5eb434-1da9-404e-d39d-5874e80229a5"
      },
      "execution_count": null,
      "outputs": [
        {
          "output_type": "stream",
          "name": "stdout",
          "text": [
            "This sound spectogram belongs to class 1 with 0.9218822121620178 probability\n"
          ]
        }
      ]
    }
  ]
}